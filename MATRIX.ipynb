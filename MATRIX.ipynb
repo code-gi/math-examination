{
 "cells": [
  {
   "cell_type": "code",
   "execution_count": 96,
   "metadata": {},
   "outputs": [],
   "source": [
    "import numpy as np"
   ]
  },
  {
   "cell_type": "code",
   "execution_count": 97,
   "metadata": {},
   "outputs": [],
   "source": [
    "from numpy import random"
   ]
  },
  {
   "cell_type": "code",
   "execution_count": 98,
   "metadata": {},
   "outputs": [
    {
     "name": "stdout",
     "output_type": "stream",
     "text": [
      "x,y,z=[ 0.4  0.6 -0.8] respectively\n"
     ]
    }
   ],
   "source": [
    "#question five\n",
    "# assume \n",
    "# 3x+2y-2z=4\n",
    "# 2x+3x-3y=5\n",
    "# x+2y-3z=4\n",
    "\n",
    "import numpy as np\n",
    "\n",
    "# coefficients array\n",
    "A = np.array([[3, 2, -2],[2, 3, -3],[1, 2, -3]])\n",
    "\n",
    "# Constants \n",
    "B = np.array([4, 5, 4])\n",
    "\n",
    "# Solving the  equations\n",
    "X = np.linalg.solve(A, B)\n",
    "\n",
    "# Print the solution\n",
    "print(f\"x,y,z={X} respectively\")"
   ]
  },
  {
   "cell_type": "code",
   "execution_count": 99,
   "metadata": {},
   "outputs": [
    {
     "name": "stdout",
     "output_type": "stream",
     "text": [
      "The inversion of x = [[ 1.56521739  0.86956522 -1.47826087]\n",
      " [ 0.86956522  3.26086957 -3.04347826]\n",
      " [-1.47826087 -3.04347826  4.17391304]]\n",
      "The transpose of x = [[1.  0.2 0.5]\n",
      " [0.2 1.  0.8]\n",
      " [0.5 0.8 1. ]]\n",
      "The determinant of x = 0.2299999999999999\n",
      "decomposition values = [2.04100779 0.82188052 0.13711169]\n",
      "decomposition = [[-0.43721717 -0.85359707 -0.28321933]\n",
      " [-0.59931898  0.51133314 -0.61591816]\n",
      " [-0.67056536  0.09955128  0.73514055]]\n"
     ]
    }
   ],
   "source": [
    " #question 4\n",
    "\n",
    "# matrix\n",
    "x = np.array([[1, 0.2, 0.5], [0.2, 1, 0.8], [0.5, 0.8, 1]])\n",
    "\n",
    "\n",
    "# (a) \n",
    "inverse = np.linalg.inv(x)\n",
    "print(f'The inversion of x = {inverse}')\n",
    "# transpose\n",
    "transpose=np.transpose(x)\n",
    "print(f'The transpose of x = {transpose}')\n",
    "# (b) \n",
    "determinant = np.linalg.det(x)\n",
    "print(f'The determinant of x = {determinant}')\n",
    "# (c) \n",
    "values, vectors = np.linalg.eig(x)\n",
    "print(f'decomposition values = {values}')\n",
    "print(f'decomposition = {vectors}')"
   ]
  }
 ],
 "metadata": {
  "kernelspec": {
   "display_name": "Python 3",
   "language": "python",
   "name": "python3"
  },
  "language_info": {
   "name": "python",
   "version": "3.11.4"
  }
 },
 "nbformat": 4,
 "nbformat_minor": 2
}
